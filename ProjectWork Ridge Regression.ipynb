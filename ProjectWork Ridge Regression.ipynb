{
 "cells": [
  {
   "cell_type": "code",
   "execution_count": 12,
   "metadata": {
    "collapsed": true
   },
   "outputs": [],
   "source": [
    "import numpy as np\n",
    "import pandas as pd\n",
    "import matplotlib.pyplot as plt\n",
    "\n",
    "bike = pd.read_csv(\"C:/Users/rites/Desktop/5082/hour.csv\")\n",
    "\n",
    "bike_new = bike.drop(['instant', 'dteday', 'casual', 'registered'], axis=1)"
   ]
  },
  {
   "cell_type": "code",
   "execution_count": 13,
   "metadata": {
    "collapsed": true
   },
   "outputs": [],
   "source": [
    "def split(X, prop = [0.6,0.2,0.2], shuffle=False):\n",
    "    df_index = np.arange(X.shape[0])\n",
    "    if shuffle==True:\n",
    "        np.random.shuffle(df_index)\n",
    "    cut1 = int(np.floor(X.shape[0]*prop[0]))\n",
    "    cut2 = int(np.floor(X.shape[0]*(prop[0]+prop[1])))\n",
    "    train_index = df_index[:cut1]\n",
    "    val_index = df_index[cut1:cut2]\n",
    "    test_index = df_index[cut2:]\n",
    "    X_train = X.iloc[train_index]\n",
    "    X_val = X.iloc[val_index]\n",
    "    X_test = X.iloc[test_index]\n",
    "    return [X_train, X_val, X_test]\n"
   ]
  },
  {
   "cell_type": "code",
   "execution_count": 14,
   "metadata": {},
   "outputs": [],
   "source": [
    "bike_train, bike_val, bike_test = split(bike_new, [0.6,0.2,0.2])\n",
    "\n",
    "bike_train_X = np.array(bike_train.drop(['cnt'], axis=1))\n",
    "bike_train_Y = np.array(bike_train.loc[:,'cnt'])\n",
    "bike_train_Y.shape = (bike_train_Y.shape[0], 1)\n",
    "\n",
    "bike_val_X = np.array(bike_val.drop(['cnt'], axis=1))\n",
    "bike_val_Y = np.array(bike_val.loc[:,'cnt'])\n",
    "bike_val_Y.shape = (bike_val_Y.shape[0], 1)\n",
    "\n",
    "bike_test_X = np.array(bike_test.drop(['cnt'], axis=1))\n",
    "bike_test_Y = np.array(bike_test.loc[:,'cnt'])\n",
    "bike_test_Y.shape = (bike_test_Y.shape[0], 1)"
   ]
  },
  {
   "cell_type": "code",
   "execution_count": 17,
   "metadata": {
    "collapsed": true
   },
   "outputs": [],
   "source": [
    "class ridge_regression(object):\n",
    "    \n",
    "    def __init__(self, alpha, lmda, iterations, intercept):\n",
    "        self.alpha = alpha\n",
    "        self.lmda = lmda\n",
    "        self.iterations = iterations\n",
    "        self.intercept = intercept\n",
    "\n",
    "    def grad_reg(self, X, Y, print_cost=False):\n",
    "        cost_list = []\n",
    "        theta=np.zeros((X.shape[1],1))\n",
    "        if self.intercept == True:\n",
    "            X = np.column_stack((np.ones((X.shape[0],1)), X))\n",
    "            theta=np.zeros((X.shape[1],1))\n",
    "        for i in range(self.iterations):\n",
    "            y_pred = np.dot(X, theta)\n",
    "            theta = theta - 2*self.alpha*np.dot(X.T, (y_pred-Y)) - 2*self.alpha*self.lmda*theta\n",
    "            ridge_loss = self.compute_loss(y_pred, Y, theta)\n",
    "            cost_list.append(ridge_loss)\n",
    "            if print_cost==True:\n",
    "                if i%2000 == 0:\n",
    "                    print(ridge_loss/X.shape[0])\n",
    "        return [cost_list, theta]\n",
    "    \n",
    "    def compute_loss(self, y_pred, y_trn, theta):\n",
    "        loss = np.sum((y_pred-y_trn)**2) + self.lmda*np.sum(theta**2)\n",
    "        return loss\n",
    "    \n",
    "    def predict(self, X, theta, intercept= True):\n",
    "        if self.intercept == True:\n",
    "            X = np.column_stack((np.ones((X.shape[0],1)), X))\n",
    "        y_pred = np.round(np.dot(X, theta))\n",
    "        return y_pred\n",
    "    \n",
    "    def RMSE(self, y_pred, y_true):\n",
    "        return np.sqrt(np.mean((y_pred-y_true)**2))\n",
    "    \n",
    "    def MAE(self, y_pred, y_true):\n",
    "        return np.mean(np.abs(y_pred-y_true))\n",
    "        "
   ]
  },
  {
   "cell_type": "code",
   "execution_count": 18,
   "metadata": {},
   "outputs": [
    {
     "name": "stdout",
     "output_type": "stream",
     "text": [
      "alpha= 1e-07\n",
      "Train error: 107.501840577\n",
      "Validation error: 185.67127227\n",
      "---------------------------------------\n",
      "alpha= 2e-07\n",
      "Train error: 107.431399555\n",
      "Validation error: 184.792283009\n",
      "---------------------------------------\n",
      "alpha= 3e-07\n",
      "Train error: 107.425512432\n",
      "Validation error: 184.728307945\n",
      "---------------------------------------\n",
      "alpha= 4e-07\n",
      "Train error: 107.427098403\n",
      "Validation error: 184.730573099\n",
      "---------------------------------------\n",
      "alpha= 1e-08\n",
      "Train error: 113.804079726\n",
      "Validation error: 207.059582937\n",
      "---------------------------------------\n"
     ]
    }
   ],
   "source": [
    "# Hyperparameter tuning\n",
    "for alp in [0.0000001, 0.0000002, 0.0000003, 0.0000004, 0.00000001]:\n",
    "    ridge = ridge_regression(alpha= alp, lmda=0.2, iterations=30000, intercept=True)\n",
    "    _ , theta = ridge.grad_reg(bike_train_X, bike_train_Y)\n",
    "    y_train_pred = ridge.predict(bike_train_X, theta)\n",
    "    y_val_pred = ridge.predict(bike_val_X, theta)\n",
    "    print(\"alpha=\",alp)\n",
    "    print(\"Train error:\", str(ridge.RMSE(y_train_pred, bike_train_Y)))\n",
    "    print(\"Validation error:\", str(ridge.RMSE(y_val_pred, bike_val_Y)))\n",
    "    print(\"---------------------------------------\")        "
   ]
  },
  {
   "cell_type": "code",
   "execution_count": 19,
   "metadata": {},
   "outputs": [
    {
     "name": "stdout",
     "output_type": "stream",
     "text": [
      "lambda= 50\n",
      "Train error: 107.542301891\n",
      "Validation error: 186.265619204\n",
      "---------------------------------------\n",
      "lambda= 25\n",
      "Train error: 107.461931184\n",
      "Validation error: 185.487670923\n",
      "---------------------------------------\n",
      "lambda= 10\n",
      "Train error: 107.433170227\n",
      "Validation error: 185.025452328\n",
      "---------------------------------------\n",
      "lambda= 5\n",
      "Train error: 107.42701136\n",
      "Validation error: 184.883453943\n",
      "---------------------------------------\n",
      "lambda= 1\n",
      "Train error: 107.426646227\n",
      "Validation error: 184.757628998\n",
      "---------------------------------------\n",
      "lambda= 0.1\n",
      "Train error: 107.426179765\n",
      "Validation error: 184.728061104\n",
      "---------------------------------------\n",
      "lambda= 0.2\n",
      "Train error: 107.427098403\n",
      "Validation error: 184.730573099\n",
      "---------------------------------------\n",
      "lambda= 0.01\n",
      "Train error: 107.425956131\n",
      "Validation error: 184.722527742\n",
      "---------------------------------------\n",
      "lambda= 0.001\n",
      "Train error: 107.426138252\n",
      "Validation error: 184.723220006\n",
      "---------------------------------------\n",
      "lambda= 1e-05\n",
      "Train error: 107.426138252\n",
      "Validation error: 184.722646105\n",
      "---------------------------------------\n"
     ]
    }
   ],
   "source": [
    "for lmd in [50, 25, 10, 5, 1, 0.1, 0.2, 0.01, 0.001, 0.00001]:\n",
    "    ridge = ridge_regression(alpha= 4e-07, lmda=lmd, iterations=30000, intercept=True)\n",
    "    _ , theta = ridge.grad_reg(bike_train_X, bike_train_Y)\n",
    "    y_train_pred = ridge.predict(bike_train_X, theta)\n",
    "    y_val_pred = ridge.predict(bike_val_X, theta)\n",
    "    print(\"lambda=\",lmd)\n",
    "    print(\"Train error:\", str(ridge.RMSE(y_train_pred, bike_train_Y)))\n",
    "    print(\"Validation error:\", str(ridge.RMSE(y_val_pred, bike_val_Y)))\n",
    "    print(\"---------------------------------------\")"
   ]
  },
  {
   "cell_type": "code",
   "execution_count": 28,
   "metadata": {},
   "outputs": [
    {
     "name": "stdout",
     "output_type": "stream",
     "text": [
      "lambda= 1e-05\n",
      "Train error: 107.431309392\n",
      "Validation error: 184.79245348\n",
      "---------------------------------------\n",
      "lambda= 1e-05\n",
      "Train error: 107.427098403\n",
      "Validation error: 184.730573099\n",
      "---------------------------------------\n",
      "lambda= 1e-05\n",
      "Train error: 107.422611379\n",
      "Validation error: 184.737854265\n",
      "---------------------------------------\n",
      "lambda= 1e-05\n",
      "Train error: 107.421940452\n",
      "Validation error: 184.737158942\n",
      "---------------------------------------\n"
     ]
    }
   ],
   "source": [
    "for ite in [15000, 30000, 40000, 60000]:\n",
    "    ridge = ridge_regression(alpha= 4e-07, lmda=0.2, iterations=ite, intercept=True)\n",
    "    _ , theta = ridge.grad_reg(bike_train_X, bike_train_Y)\n",
    "    y_train_pred = ridge.predict(bike_train_X, theta)\n",
    "    y_val_pred = ridge.predict(bike_val_X, theta)\n",
    "    print(\"lambda=\",lmd)\n",
    "    print(\"Train error:\", str(ridge.RMSE(y_train_pred, bike_train_Y)))\n",
    "    print(\"Validation error:\", str(ridge.RMSE(y_val_pred, bike_val_Y)))\n",
    "    print(\"---------------------------------------\")"
   ]
  },
  {
   "cell_type": "code",
   "execution_count": 26,
   "metadata": {},
   "outputs": [
    {
     "name": "stdout",
     "output_type": "stream",
     "text": [
      "39087.1244178\n",
      "12086.8332775\n",
      "11679.4638009\n",
      "11579.8124543\n",
      "11553.5603401\n",
      "11546.0740364\n",
      "11543.6520578\n",
      "11542.7117558\n",
      "11542.264915\n",
      "11542.0139917\n",
      "11541.8564392\n",
      "11541.7503049\n",
      "11541.6752729\n",
      "11541.6201331\n",
      "11541.5781444\n"
     ]
    }
   ],
   "source": [
    "# Optimized hyperparameter values\n",
    "ridge = ridge_regression(alpha= 0.0000004, lmda=0.2, iterations=30000, intercept=True)\n",
    "cost_list, theta = ridge.grad_reg(bike_train_X, bike_train_Y, print_cost=True)\n"
   ]
  },
  {
   "cell_type": "code",
   "execution_count": 8,
   "metadata": {},
   "outputs": [
    {
     "data": {
      "image/png": "[encoded data removed]",
      "text/plain": [
       "<matplotlib.figure.Figure at 0x1015675c0>"
      ]
     },
     "metadata": {},
     "output_type": "display_data"
    }
   ],
   "source": [
    "# Cost function as \n",
    "plt.plot(range(30000), cost_list, color='green', marker='.', linestyle='dotted',\n",
    "        linewidth=1, markersize=8)\n",
    "plt.xlabel('iterations')\n",
    "plt.ylabel('cost')\n",
    "plt.show()"
   ]
  },
  {
   "cell_type": "code",
   "execution_count": 15,
   "metadata": {},
   "outputs": [
    {
     "data": {
      "text/plain": [
       "Ridge(alpha=0.001, copy_X=True, fit_intercept=True, max_iter=30000,\n",
       "   normalize=False, random_state=None, solver='auto', tol=0.001)"
      ]
     },
     "execution_count": 15,
     "metadata": {},
     "output_type": "execute_result"
    }
   ],
   "source": [
    "from sklearn.linear_model import Ridge\n",
    "ridge_skl = Ridge(alpha=0.001, max_iter=30000)\n",
    "ridge_skl.fit(X=bike_train_X, y=bike_train_Y) "
   ]
  },
  {
   "cell_type": "code",
   "execution_count": 16,
   "metadata": {
    "collapsed": true
   },
   "outputs": [],
   "source": [
    "# Train predictions\n",
    "y_train_pred = ridge.predict(bike_train_X, theta)\n",
    "y_train_pred_skl = ridge_skl.predict(X=bike_train_X)\n",
    "\n",
    "# Validation predictions\n",
    "y_val_pred = ridge.predict(bike_val_X, theta)\n",
    "y_val_pred_skl = ridge_skl.predict(X=bike_val_X)"
   ]
  },
  {
   "cell_type": "code",
   "execution_count": 8,
   "metadata": {},
   "outputs": [
    {
     "name": "stdout",
     "output_type": "stream",
     "text": [
      "Train error for custom model: 107.426340235\n",
      "Train error for skl model: 107.417888071\n",
      "Validation error for custom model: 184.735040812\n",
      "Validation error for skl model: 184.735750168\n"
     ]
    }
   ],
   "source": [
    "print(\"Train error for custom model:\", str(ridge.RMSE(y_train_pred, bike_train_Y)))\n",
    "print(\"Train error for skl model:\", str(ridge.RMSE(y_train_pred_skl, bike_train_Y)))\n",
    "\n",
    "print(\"Validation error for custom model:\", str(ridge.RMSE(y_val_pred, bike_val_Y)))\n",
    "print(\"Validation error for skl model:\", str(ridge.RMSE(y_val_pred_skl, bike_val_Y)))"
   ]
  },
  {
   "cell_type": "code",
   "execution_count": 9,
   "metadata": {},
   "outputs": [
    {
     "name": "stdout",
     "output_type": "stream",
     "text": [
      "Test error for custom model: 187.274444779\n",
      "Test error for skl model: 187.27814907\n"
     ]
    }
   ],
   "source": [
    "# Test predictions\n",
    "y_test_pred = ridge.predict(bike_test_X, theta)\n",
    "y_test_pred_skl = ridge_skl.predict(X=bike_test_X)\n",
    "\n",
    "print(\"Test error for custom model:\", str(ridge.RMSE(y_test_pred, bike_test_Y)))\n",
    "print(\"Test error for skl model:\", str(ridge.RMSE(y_test_pred_skl, bike_test_Y)))"
   ]
  },
  {
   "cell_type": "code",
   "execution_count": 10,
   "metadata": {},
   "outputs": [
    {
     "name": "stdout",
     "output_type": "stream",
     "text": [
      "Exaplained variance for custom model: 0.289577681005\n",
      "Exaplained variance for sklearn model: 0.289955149339\n"
     ]
    }
   ],
   "source": [
    "# Explained variance score for custom model\n",
    "print(\"Exaplained variance for custom model: \", end=\"\")\n",
    "print(1 - (np.var(bike_test_Y - y_test_pred)/np.var(bike_test_Y)))\n",
    "# Explained variance score for sklearn model\n",
    "print(\"Exaplained variance for sklearn model: \", end=\"\")\n",
    "print(1 - (np.var(bike_test_Y - y_test_pred_skl)/np.var(bike_test_Y)))"
   ]
  },
  {
   "cell_type": "code",
   "execution_count": 21,
   "metadata": {},
   "outputs": [
    {
     "name": "stdout",
     "output_type": "stream",
     "text": [
      "Train error for skl model: 107.417888071\n",
      "Validation error for skl model: 184.735750168\n",
      "Test error for skl model: 187.27814907\n",
      "Exaplained variance for sklearn model: 0.289955149339\n"
     ]
    }
   ],
   "source": [
    "# Train predictions\n",
    "#y_train_pred = ridge.predict(bike_train_X, theta)\n",
    "y_train_pred_skl = ridge_skl.predict(X=bike_train_X)\n",
    "# Validation predictions\n",
    "#y_val_pred = ridge.predict(bike_val_X, theta)\n",
    "y_val_pred_skl = ridge_skl.predict(X=bike_val_X)\n",
    "print(\"Train error for skl model:\", str(ridge.RMSE(y_train_pred_skl, bike_train_Y)))\n",
    "print(\"Validation error for skl model:\", str(ridge.RMSE(y_val_pred_skl, bike_val_Y)))\n",
    "# Test predictions\n",
    "y_test_pred_skl = ridge_skl.predict(X=bike_test_X)\n",
    "print(\"Test error for skl model:\", str(ridge.RMSE(y_test_pred_skl, bike_test_Y)))\n",
    "# Explained variance score for sklearn model\n",
    "print(\"Exaplained variance for sklearn model: \", end=\"\")\n",
    "print(1 - (np.var(bike_test_Y - y_test_pred_skl)/np.var(bike_test_Y)))"
   ]
  }
 ],
 "metadata": {
  "kernelspec": {
   "display_name": "Python 3",
   "language": "python",
   "name": "python3"
  },
  "language_info": {
   "codemirror_mode": {
    "name": "ipython",
    "version": 3
   },
   "file_extension": ".py",
   "mimetype": "text/x-python",
   "name": "python",
   "nbconvert_exporter": "python",
   "pygments_lexer": "ipython3",
   "version": "3.6.3"
  }
 },
 "nbformat": 4,
 "nbformat_minor": 2
}
